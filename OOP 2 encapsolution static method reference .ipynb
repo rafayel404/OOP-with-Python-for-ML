{
  "nbformat": 4,
  "nbformat_minor": 0,
  "metadata": {
    "colab": {
      "provenance": [],
      "include_colab_link": true
    },
    "kernelspec": {
      "name": "python3",
      "display_name": "Python 3"
    },
    "language_info": {
      "name": "python"
    }
  },
  "cells": [
    {
      "cell_type": "markdown",
      "metadata": {
        "id": "view-in-github",
        "colab_type": "text"
      },
      "source": [
        "<a href=\"https://colab.research.google.com/github/rafayel404/OOP-with-Python-for-ML/blob/main/OOP%202%20encapsolution%20static%20method%20reference%20.ipynb\" target=\"_parent\"><img src=\"https://colab.research.google.com/assets/colab-badge.svg\" alt=\"Open In Colab\"/></a>"
      ]
    },
    {
      "cell_type": "markdown",
      "source": [
        "### Write OOP classes to handle the following scenarios:\n",
        "\n",
        "- A user can create and view 2D coordinates\n",
        "- A user can find out the distance between 2 coordinates\n",
        "- A user can find find the distance of a coordinate from origin\n",
        "- A user can check if a point lies on a given line\n",
        "- A user can find the distance between a given 2D point and a given line\n",
        "\n"
      ],
      "metadata": {
        "id": "JUmWTebLbjwN"
      }
    },
    {
      "cell_type": "code",
      "source": [
        "class Point:\n",
        "\n",
        "  def __init__(self,x,y):\n",
        "    self.x_cod = x\n",
        "    self.y_cod = y\n",
        "\n",
        "  def __str__(self):\n",
        "    return '<{},{}>'.format(self.x_cod,self.y_cod)\n",
        "\n",
        "  def euclidean_distance(self,other):\n",
        "    return ((self.x_cod - other.x_cod)**2 + (self.y_cod - other.y_cod)**2)**0.5\n",
        "\n",
        "  def distance_from_origin(self):\n",
        "    return (self.x_cod**2 + self.y_cod**2)**0.5\n",
        "    # return self.euclidean_distance(Point(0,0))\n",
        "\n",
        "\n",
        "class Line:\n",
        "\n",
        "  def __init__(self,A,B,C):\n",
        "    self.A = A\n",
        "    self.B = B\n",
        "    self.C = C\n",
        "\n",
        "  def __str__(self):\n",
        "    return '{}x + {}y + {} = 0'.format(self.A,self.B,self.C)\n",
        "\n",
        "  def point_on_line(line,point):\n",
        "    if line.A*point.x_cod + line.B*point.y_cod + line.C == 0:\n",
        "      return \"lies on the line\"\n",
        "    else:\n",
        "      return \"does not lie on the line\"\n",
        "\n",
        "  def shortest_distance(line,point):\n",
        "    return abs(line.A*point.x_cod + line.B*point.y_cod + line.C)/(line.A**2 + line.B**2)**0.5\n"
      ],
      "metadata": {
        "id": "2jfIFsMocjN3"
      },
      "execution_count": null,
      "outputs": []
    },
    {
      "cell_type": "code",
      "source": [
        "l1 = Line(1,1,-2)\n",
        "p1 = Point(1,10)\n",
        "print(l1)\n",
        "print(p1)\n",
        "\n",
        "l1.shortest_distance(p1)"
      ],
      "metadata": {
        "colab": {
          "base_uri": "https://localhost:8080/"
        },
        "id": "z3QeFQu07dpO",
        "outputId": "0af4fec2-739e-42f5-fcb5-428f5ea425fe"
      },
      "execution_count": null,
      "outputs": [
        {
          "output_type": "stream",
          "name": "stdout",
          "text": [
            "1x + 1y + -2 = 0\n",
            "<1,10>\n"
          ]
        },
        {
          "output_type": "execute_result",
          "data": {
            "text/plain": [
              "6.363961030678928"
            ]
          },
          "metadata": {},
          "execution_count": 43
        }
      ]
    },
    {
      "cell_type": "markdown",
      "source": [
        "### How objects access attributes"
      ],
      "metadata": {
        "id": "s6n-PpwgfiMv"
      }
    },
    {
      "cell_type": "code",
      "source": [
        "class Person:\n",
        "\n",
        "  def __init__(self,name_input,country_input):\n",
        "    self.name = name_input\n",
        "    self.country = country_input\n",
        "\n",
        "  def greet(self):\n",
        "    if self.country == 'Bangladesh':\n",
        "      print('Hi',self.name)\n",
        "    else:\n",
        "      print('Hello',self.name)\n"
      ],
      "metadata": {
        "id": "XUwz5NX3fl3p"
      },
      "execution_count": 1,
      "outputs": []
    },
    {
      "cell_type": "code",
      "source": [
        "# how to access attributes\n",
        "p = Person('Rafayel','Bangladesh')"
      ],
      "metadata": {
        "id": "Eb_wD7mkh-sK"
      },
      "execution_count": 2,
      "outputs": []
    },
    {
      "cell_type": "code",
      "source": [
        "p.name"
      ],
      "metadata": {
        "colab": {
          "base_uri": "https://localhost:8080/",
          "height": 38
        },
        "id": "R_zixc-yD2z8",
        "outputId": "7dd56b03-e010-42a8-c0d4-11156fcab30c"
      },
      "execution_count": 3,
      "outputs": [
        {
          "output_type": "execute_result",
          "data": {
            "text/plain": [
              "'Rafayel'"
            ],
            "application/vnd.google.colaboratory.intrinsic+json": {
              "type": "string"
            }
          },
          "metadata": {},
          "execution_count": 3
        }
      ]
    },
    {
      "cell_type": "code",
      "source": [
        "# how to access methods\n",
        "p.greet()"
      ],
      "metadata": {
        "id": "FVenvmOViFN5",
        "colab": {
          "base_uri": "https://localhost:8080/"
        },
        "outputId": "d7a4141f-886c-4fa6-a6ed-54507e9278cc"
      },
      "execution_count": 4,
      "outputs": [
        {
          "output_type": "stream",
          "name": "stdout",
          "text": [
            "Hello Rafayel\n"
          ]
        }
      ]
    },
    {
      "cell_type": "code",
      "source": [
        "# what if i try to access non-existent attributes\n",
        "p.gender"
      ],
      "metadata": {
        "id": "LyBkKlAviG-x",
        "colab": {
          "base_uri": "https://localhost:8080/",
          "height": 187
        },
        "outputId": "66fd0bf4-9d2e-4d3b-d0fd-3d3593849d25"
      },
      "execution_count": null,
      "outputs": [
        {
          "output_type": "error",
          "ename": "AttributeError",
          "evalue": "ignored",
          "traceback": [
            "\u001b[0;31m---------------------------------------------------------------------------\u001b[0m",
            "\u001b[0;31mAttributeError\u001b[0m                            Traceback (most recent call last)",
            "\u001b[0;32m<ipython-input-49-39388d77d830>\u001b[0m in \u001b[0;36m<module>\u001b[0;34m\u001b[0m\n\u001b[1;32m      1\u001b[0m \u001b[0;31m# what if i try to access non-existent attributes\u001b[0m\u001b[0;34m\u001b[0m\u001b[0;34m\u001b[0m\u001b[0;34m\u001b[0m\u001b[0m\n\u001b[0;32m----> 2\u001b[0;31m \u001b[0mp\u001b[0m\u001b[0;34m.\u001b[0m\u001b[0mgender\u001b[0m\u001b[0;34m\u001b[0m\u001b[0;34m\u001b[0m\u001b[0m\n\u001b[0m",
            "\u001b[0;31mAttributeError\u001b[0m: 'Person' object has no attribute 'gender'"
          ]
        }
      ]
    },
    {
      "cell_type": "markdown",
      "source": [
        "### Attribute creation from outside of the class"
      ],
      "metadata": {
        "id": "gFxMl3Gpfmq-"
      }
    },
    {
      "cell_type": "code",
      "source": [
        "p.gender = 'male'"
      ],
      "metadata": {
        "id": "Ab2M4VwRfp6G"
      },
      "execution_count": null,
      "outputs": []
    },
    {
      "cell_type": "code",
      "source": [
        "p.gender"
      ],
      "metadata": {
        "colab": {
          "base_uri": "https://localhost:8080/",
          "height": 36
        },
        "id": "YquKhn88NXEZ",
        "outputId": "2d07e3aa-14d3-4016-cba2-8de3ac9c1fa5"
      },
      "execution_count": null,
      "outputs": [
        {
          "output_type": "execute_result",
          "data": {
            "text/plain": [
              "'male'"
            ],
            "application/vnd.google.colaboratory.intrinsic+json": {
              "type": "string"
            }
          },
          "metadata": {},
          "execution_count": 51
        }
      ]
    },
    {
      "cell_type": "markdown",
      "source": [
        "### Reference Variables\n",
        "\n",
        "- Reference variables hold the objects\n",
        "- We can create objects without reference variable as well\n",
        "- An object can have multiple reference variables\n",
        "- Assigning a new reference variable to an existing object does not create a new object"
      ],
      "metadata": {
        "id": "s26UEjp6fqjn"
      }
    },
    {
      "cell_type": "code",
      "source": [
        "# object without a reference\n",
        "class Person:\n",
        "\n",
        "  def __init__(self):\n",
        "    self.name = 'Rafayel'\n",
        "    self.gender = 'male'\n",
        "\n",
        "p = Person() # here p is the variable which contains the address of the object\n",
        "q = p"
      ],
      "metadata": {
        "id": "FAoqeNdQfsrB"
      },
      "execution_count": 5,
      "outputs": []
    },
    {
      "cell_type": "code",
      "source": [
        "# Multiple ref\n",
        "print(id(p))\n",
        "print(id(q))"
      ],
      "metadata": {
        "id": "oaJcQhkRfuGP",
        "colab": {
          "base_uri": "https://localhost:8080/"
        },
        "outputId": "2bcb5f55-0020-487b-833e-ebe8be503886"
      },
      "execution_count": 6,
      "outputs": [
        {
          "output_type": "stream",
          "name": "stdout",
          "text": [
            "133907927014832\n",
            "133907927014832\n"
          ]
        }
      ]
    },
    {
      "cell_type": "code",
      "source": [
        "# change attribute value with the help of 2nd object"
      ],
      "metadata": {
        "id": "Ycm-nWU6fscq"
      },
      "execution_count": null,
      "outputs": []
    },
    {
      "cell_type": "code",
      "source": [
        "print(p.name)\n",
        "print(q.name)\n",
        "q.name = 'Antu'\n",
        "print(q.name)\n",
        "print(p.name)"
      ],
      "metadata": {
        "colab": {
          "base_uri": "https://localhost:8080/"
        },
        "id": "AtjSluqSfzqj",
        "outputId": "1098f174-1765-4246-e321-2d0d8acae02b"
      },
      "execution_count": 7,
      "outputs": [
        {
          "output_type": "stream",
          "name": "stdout",
          "text": [
            "Rafayel\n",
            "Rafayel\n",
            "Antu\n",
            "Antu\n"
          ]
        }
      ]
    },
    {
      "cell_type": "markdown",
      "source": [
        "### Pass by reference"
      ],
      "metadata": {
        "id": "4nqDJqJvfukO"
      }
    },
    {
      "cell_type": "code",
      "source": [
        "class Person:\n",
        "\n",
        "  def __init__(self,name,gender):\n",
        "    self.name = name\n",
        "    self.gender = gender\n",
        "\n",
        "# outside the class -> function\n",
        "def greet(person):\n",
        "  print('Hi my name is',person.name,'and I am a',person.gender)\n",
        "  p1 = Person('ankit','male')\n",
        "  return p1\n",
        "\n",
        "p = Person('Rafayel','male')\n",
        "x = greet(p)\n",
        "print(x.name)\n",
        "print(x.gender)"
      ],
      "metadata": {
        "id": "noYvRkMmfwMl",
        "colab": {
          "base_uri": "https://localhost:8080/"
        },
        "outputId": "df0b728d-965f-4b06-da60-04f8e9bb373d"
      },
      "execution_count": 8,
      "outputs": [
        {
          "output_type": "stream",
          "name": "stdout",
          "text": [
            "Hi my name is Rafayel and I am a male\n",
            "ankit\n",
            "male\n"
          ]
        }
      ]
    },
    {
      "cell_type": "code",
      "source": [
        "class Person:\n",
        "\n",
        "  def __init__(self,name,gender):\n",
        "    self.name = name\n",
        "    self.gender = gender\n",
        "\n",
        "# outside the class -> function\n",
        "def greet(person):\n",
        "  print(id(person))\n",
        "  person.name = 'ankit'\n",
        "  print(person.name)\n",
        "\n",
        "p = Person('Rafayel','male')\n",
        "print(id(p))\n",
        "greet(p)\n",
        "print(p.name)"
      ],
      "metadata": {
        "colab": {
          "base_uri": "https://localhost:8080/"
        },
        "id": "8ddbyX3hHryA",
        "outputId": "1481a819-aee8-434e-a688-551a1f1e3841"
      },
      "execution_count": 9,
      "outputs": [
        {
          "output_type": "stream",
          "name": "stdout",
          "text": [
            "133907927236368\n",
            "133907927236368\n",
            "ankit\n",
            "ankit\n"
          ]
        }
      ]
    },
    {
      "cell_type": "markdown",
      "source": [
        "### Object mutability"
      ],
      "metadata": {
        "id": "gRNNs9_DFvud"
      }
    },
    {
      "cell_type": "code",
      "source": [
        "class Person:\n",
        "\n",
        "  def __init__(self,name,gender):\n",
        "    self.name = name\n",
        "    self.gender = gender\n",
        "\n",
        "# outside the class -> function\n",
        "def greet(person):\n",
        "  person.name = 'ankit'\n",
        "  return person\n",
        "\n",
        "p = Person('Rafayel','male')\n",
        "print(id(p))\n",
        "p1 = greet(p)\n",
        "print(id(p1))"
      ],
      "metadata": {
        "id": "GcBsQGR_Fy5E",
        "colab": {
          "base_uri": "https://localhost:8080/"
        },
        "outputId": "22185ac4-9835-4ecb-bc91-1de1906545aa"
      },
      "execution_count": 10,
      "outputs": [
        {
          "output_type": "stream",
          "name": "stdout",
          "text": [
            "133907927227104\n",
            "133907927227104\n"
          ]
        }
      ]
    },
    {
      "cell_type": "markdown",
      "source": [
        "### Encapsulation"
      ],
      "metadata": {
        "id": "A2Opzki1fw7x"
      }
    },
    {
      "cell_type": "code",
      "source": [
        "# instance var -> python tutor\n",
        "class Person:\n",
        "\n",
        "  def __init__(self,name_input,country_input):\n",
        "    self.name = name_input\n",
        "    self.country = country_input\n",
        "\n",
        "p1 = Person('Rafayel','Bangladesh')\n",
        "p2 = Person('steve','australia')"
      ],
      "metadata": {
        "id": "yLRvYq47fyvp"
      },
      "execution_count": 11,
      "outputs": []
    },
    {
      "cell_type": "code",
      "source": [
        "p2.name"
      ],
      "metadata": {
        "colab": {
          "base_uri": "https://localhost:8080/",
          "height": 38
        },
        "id": "myBJr2T_KZmL",
        "outputId": "4e4827e6-4ad9-4f11-d798-abbb861bb4c4"
      },
      "execution_count": 12,
      "outputs": [
        {
          "output_type": "execute_result",
          "data": {
            "text/plain": [
              "'steve'"
            ],
            "application/vnd.google.colaboratory.intrinsic+json": {
              "type": "string"
            }
          },
          "metadata": {},
          "execution_count": 12
        }
      ]
    },
    {
      "cell_type": "code",
      "source": [
        "class Atm:\n",
        "\n",
        "  # constructor(special function)->superpower ->\n",
        "  def __init__(self):\n",
        "    print(id(self))\n",
        "    self.pin = ''\n",
        "    self.__balance = 0\n",
        "    #self.__menu()\n",
        "\n",
        "    # this is getter. this is a way of accessing private attribute\n",
        "  def get_balance(self):\n",
        "    return self.__balance\n",
        "\n",
        "\n",
        "  # this is setter. this is a way of changing private attribute. Actually nothing is private in python.If i use getter setter it allows me to control private attribute.\n",
        "  def set_balance(self,new_value):\n",
        "    if type(new_value) == int:\n",
        "      self.__balance = new_value\n",
        "    else:\n",
        "      print('beta bahot maarenge')\n",
        "\n",
        "  def __menu(self):\n",
        "    user_input = input(\"\"\"\n",
        "    Hi how can I help you?\n",
        "    1. Press 1 to create pin\n",
        "    2. Press 2 to change pin\n",
        "    3. Press 3 to check balance\n",
        "    4. Press 4 to withdraw\n",
        "    5. Anything else to exit\n",
        "    \"\"\")\n",
        "\n",
        "    if user_input == '1':\n",
        "      self.create_pin()\n",
        "    elif user_input == '2':\n",
        "      self.change_pin()\n",
        "    elif user_input == '3':\n",
        "      self.check_balance()\n",
        "    elif user_input == '4':\n",
        "      self.withdraw()\n",
        "    else:\n",
        "      exit()\n",
        "\n",
        "  def create_pin(self):\n",
        "    user_pin = input('enter your pin')\n",
        "    self.pin = user_pin\n",
        "\n",
        "    user_balance = int(input('enter balance'))\n",
        "    self.__balance = user_balance\n",
        "\n",
        "    print('pin created successfully')\n",
        "\n",
        "  def change_pin(self):\n",
        "    old_pin = input('enter old pin')\n",
        "\n",
        "    if old_pin == self.pin:\n",
        "      # let him change the pin\n",
        "      new_pin = input('enter new pin')\n",
        "      self.pin = new_pin\n",
        "      print('pin change successful')\n",
        "    else:\n",
        "      print('wrong pin')\n",
        "\n",
        "  def check_balance(self):\n",
        "    user_pin = input('enter your pin')\n",
        "    if user_pin == self.pin:\n",
        "      print('your balance is ',self.__balance)\n",
        "    else:\n",
        "      print('wrong pin')\n",
        "\n",
        "  def withdraw(self):\n",
        "    user_pin = input('enter the pin')\n",
        "    if user_pin == self.pin:\n",
        "      # allow to withdraw\n",
        "      amount = int(input('enter the amount'))\n",
        "      if amount <= self.__balance:\n",
        "        self.__balance = self.__balance - amount\n",
        "        print('withdrawl successful.balance is',self.__balance)\n",
        "      else:\n",
        "        print('insufficient balance')\n",
        "    else:\n",
        "      print('wrong pin')"
      ],
      "metadata": {
        "id": "HRV0i93nzBtZ"
      },
      "execution_count": 3,
      "outputs": []
    },
    {
      "cell_type": "code",
      "source": [
        "obj = Atm()"
      ],
      "metadata": {
        "colab": {
          "base_uri": "https://localhost:8080/"
        },
        "id": "L_5IBTO_LaFO",
        "outputId": "980278e9-2d4e-4a53-c6ad-ca0dc1e05500"
      },
      "execution_count": 4,
      "outputs": [
        {
          "output_type": "stream",
          "name": "stdout",
          "text": [
            "138911855390304\n"
          ]
        }
      ]
    },
    {
      "cell_type": "code",
      "source": [
        "obj.get_balance()"
      ],
      "metadata": {
        "colab": {
          "base_uri": "https://localhost:8080/"
        },
        "id": "2k4gY5HlLtdE",
        "outputId": "10fe6de0-9003-405f-b6a3-2ca7ca45f9fc"
      },
      "execution_count": 23,
      "outputs": [
        {
          "output_type": "execute_result",
          "data": {
            "text/plain": [
              "1000"
            ]
          },
          "metadata": {},
          "execution_count": 23
        }
      ]
    },
    {
      "cell_type": "code",
      "source": [
        "obj.set_balance(500) # we can access private attribute doing this. when we make a variable private it changes into _classname__balace ."
      ],
      "metadata": {
        "id": "OEDXxBISQeH-"
      },
      "execution_count": 5,
      "outputs": []
    },
    {
      "cell_type": "code",
      "source": [
        "obj.withdraw()"
      ],
      "metadata": {
        "colab": {
          "base_uri": "https://localhost:8080/"
        },
        "id": "MIOrnSeLL4Gi",
        "outputId": "95a1bf10-38f1-4152-dd9b-c566bd9ecaa8"
      },
      "execution_count": 25,
      "outputs": [
        {
          "output_type": "stream",
          "name": "stdout",
          "text": [
            "enter the pin1234\n",
            "enter the amount100\n",
            "withdrawl successful.balance is 400\n"
          ]
        }
      ]
    },
    {
      "cell_type": "code",
      "source": [
        "obj=Atm()\n",
        "print(obj.__balance)"
      ],
      "metadata": {
        "id": "SEvGZ28DwHX_",
        "outputId": "c87b0b52-a9b5-4540-c62c-9f5f017bf0ee",
        "colab": {
          "base_uri": "https://localhost:8080/",
          "height": 159
        }
      },
      "execution_count": 2,
      "outputs": [
        {
          "output_type": "error",
          "ename": "NameError",
          "evalue": "name 'Atm' is not defined",
          "traceback": [
            "\u001b[0;31m---------------------------------------------------------------------------\u001b[0m",
            "\u001b[0;31mNameError\u001b[0m                                 Traceback (most recent call last)",
            "\u001b[0;32m<ipython-input-2-e0711a75fcd4>\u001b[0m in \u001b[0;36m<cell line: 1>\u001b[0;34m()\u001b[0m\n\u001b[0;32m----> 1\u001b[0;31m \u001b[0mobj\u001b[0m\u001b[0;34m=\u001b[0m\u001b[0mAtm\u001b[0m\u001b[0;34m(\u001b[0m\u001b[0;34m)\u001b[0m\u001b[0;34m\u001b[0m\u001b[0;34m\u001b[0m\u001b[0m\n\u001b[0m\u001b[1;32m      2\u001b[0m \u001b[0mprint\u001b[0m\u001b[0;34m(\u001b[0m\u001b[0mobj\u001b[0m\u001b[0;34m.\u001b[0m\u001b[0m__balance\u001b[0m\u001b[0;34m)\u001b[0m\u001b[0;34m\u001b[0m\u001b[0;34m\u001b[0m\u001b[0m\n",
            "\u001b[0;31mNameError\u001b[0m: name 'Atm' is not defined"
          ]
        }
      ]
    },
    {
      "cell_type": "markdown",
      "source": [
        "### Collection of objects"
      ],
      "metadata": {
        "id": "2zN_yVYaf0_1"
      }
    },
    {
      "cell_type": "code",
      "source": [],
      "metadata": {
        "id": "UN7FByT3LZSX"
      },
      "execution_count": null,
      "outputs": []
    },
    {
      "cell_type": "code",
      "source": [
        "# list of objects\n",
        "class Person:\n",
        "\n",
        "  def __init__(self,name,gender):\n",
        "    self.name = name\n",
        "    self.gender = gender\n",
        "\n",
        "p1 = Person('Rafayel','male')\n",
        "p2 = Person('ankit','male')\n",
        "p3 = Person('nasim','male')\n",
        "\n",
        "L = [p1,p2,p3]\n",
        "\n",
        "for i in L:\n",
        "  print(i.name,i.gender)"
      ],
      "metadata": {
        "id": "VdP0aR6Qf4zp",
        "colab": {
          "base_uri": "https://localhost:8080/"
        },
        "outputId": "820fb733-a104-4235-f583-bf80f4dbd645"
      },
      "execution_count": 7,
      "outputs": [
        {
          "output_type": "stream",
          "name": "stdout",
          "text": [
            "Rafayel male\n",
            "ankit male\n",
            "nasim male\n"
          ]
        }
      ]
    },
    {
      "cell_type": "code",
      "source": [
        "# dict of objects\n",
        "# list of objects\n",
        "class Person:\n",
        "\n",
        "  def __init__(self,name,gender):\n",
        "    self.name = name\n",
        "    self.gender = gender\n",
        "\n",
        "p1 = Person('rafayel','male')\n",
        "p2 = Person('ankit','male')\n",
        "p3 = Person('nisa','female')\n",
        "\n",
        "d = {'p1':p1,'p2':p2,'p3':p3}\n",
        "\n",
        "for i in d:\n",
        "  print(d[i].gender)"
      ],
      "metadata": {
        "id": "uARXTZTCvt3M",
        "colab": {
          "base_uri": "https://localhost:8080/"
        },
        "outputId": "18e3ef26-f11e-402e-fb1a-b95ea8732385"
      },
      "execution_count": 8,
      "outputs": [
        {
          "output_type": "stream",
          "name": "stdout",
          "text": [
            "male\n",
            "male\n",
            "female\n"
          ]
        }
      ]
    },
    {
      "cell_type": "markdown",
      "source": [
        "### Static Variables(Vs Instance variables)"
      ],
      "metadata": {
        "id": "TKdM9xIFf8Lt"
      }
    },
    {
      "cell_type": "code",
      "source": [
        "# need for static vars"
      ],
      "metadata": {
        "id": "yQakCFqbf-kB"
      },
      "execution_count": null,
      "outputs": []
    },
    {
      "cell_type": "code",
      "source": [
        "class Atm:\n",
        "\n",
        "  __counter = 1 # this is static variable\n",
        "\n",
        "  # constructor(special function)->superpower ->\n",
        "  def __init__(self):\n",
        "    print(id(self))\n",
        "    self.pin = ''\n",
        "    self.__balance = 0\n",
        "    self.cid = Atm.__counter\n",
        "    Atm.__counter = Atm.__counter + 1\n",
        "    #self.menu()\n",
        "\n",
        "  # utility functions. We do not need object to call this method.\n",
        "  @staticmethod\n",
        "  def get_counter():\n",
        "    return Atm.__counter\n",
        "\n",
        "\n",
        "  def get_balance(self):\n",
        "    return self.__balance\n",
        "\n",
        "  def set_balance(self,new_value):\n",
        "    if type(new_value) == int:\n",
        "      self.__balance = new_value\n",
        "    else:\n",
        "      print('Can not do this')\n",
        "\n",
        "  def __menu(self):\n",
        "    user_input = input(\"\"\"\n",
        "    Hi how can I help you?\n",
        "    1. Press 1 to create pin\n",
        "    2. Press 2 to change pin\n",
        "    3. Press 3 to check balance\n",
        "    4. Press 4 to withdraw\n",
        "    5. Anything else to exit\n",
        "    \"\"\")\n",
        "\n",
        "    if user_input == '1':\n",
        "      self.create_pin()\n",
        "    elif user_input == '2':\n",
        "      self.change_pin()\n",
        "    elif user_input == '3':\n",
        "      self.check_balance()\n",
        "    elif user_input == '4':\n",
        "      self.withdraw()\n",
        "    else:\n",
        "      exit()\n",
        "\n",
        "  def create_pin(self):\n",
        "    user_pin = input('enter your pin')\n",
        "    self.pin = user_pin\n",
        "\n",
        "    user_balance = int(input('enter balance'))\n",
        "    self.__balance = user_balance\n",
        "\n",
        "    print('pin created successfully')\n",
        "\n",
        "  def change_pin(self):\n",
        "    old_pin = input('enter old pin')\n",
        "\n",
        "    if old_pin == self.pin:\n",
        "      # let him change the pin\n",
        "      new_pin = input('enter new pin')\n",
        "      self.pin = new_pin\n",
        "      print('pin change successful')\n",
        "    else:\n",
        "      print('wrong pin')\n",
        "\n",
        "  def check_balance(self):\n",
        "    user_pin = input('enter your pin')\n",
        "    if user_pin == self.pin:\n",
        "      print('your balance is ',self.__balance)\n",
        "    else:\n",
        "      print('wrong pin ')\n",
        "\n",
        "  def withdraw(self):\n",
        "    user_pin = input('enter the pin')\n",
        "    if user_pin == self.pin:\n",
        "      # allow to withdraw\n",
        "      amount = int(input('enter the amount'))\n",
        "      if amount <= self.__balance:\n",
        "        self.__balance = self.__balance - amount\n",
        "        print('withdrawl successful.balance is',self.__balance)\n",
        "      else:\n",
        "        print('insufficient balance')\n",
        "    else:\n",
        "      print('wrong pin')"
      ],
      "metadata": {
        "id": "5HYjBHv9wZNm"
      },
      "execution_count": 9,
      "outputs": []
    },
    {
      "cell_type": "code",
      "source": [
        "c1 = Atm()"
      ],
      "metadata": {
        "id": "uafMrCPewZWY",
        "colab": {
          "base_uri": "https://localhost:8080/"
        },
        "outputId": "cb23c49e-412a-465f-e4b4-266b073d84b7"
      },
      "execution_count": 10,
      "outputs": [
        {
          "output_type": "stream",
          "name": "stdout",
          "text": [
            "138911444991616\n"
          ]
        }
      ]
    },
    {
      "cell_type": "code",
      "source": [
        "Atm.get_counter() # this is static method . we call it by class name. no object is needed"
      ],
      "metadata": {
        "id": "f35wRAlXwZa7",
        "colab": {
          "base_uri": "https://localhost:8080/"
        },
        "outputId": "fec1a72c-53a1-4a2a-cb2e-6e8484ff2a08"
      },
      "execution_count": 11,
      "outputs": [
        {
          "output_type": "execute_result",
          "data": {
            "text/plain": [
              "2"
            ]
          },
          "metadata": {},
          "execution_count": 11
        }
      ]
    },
    {
      "cell_type": "code",
      "source": [
        "c3 = Atm()"
      ],
      "metadata": {
        "colab": {
          "base_uri": "https://localhost:8080/"
        },
        "id": "WiCrLBgGTseq",
        "outputId": "9019d462-0b46-4a9d-8837-6a3c31591ad4"
      },
      "execution_count": null,
      "outputs": [
        {
          "output_type": "stream",
          "name": "stdout",
          "text": [
            "140655538226704\n"
          ]
        }
      ]
    },
    {
      "cell_type": "code",
      "source": [
        "c3.cid"
      ],
      "metadata": {
        "colab": {
          "base_uri": "https://localhost:8080/"
        },
        "id": "YwPU4wRYTuoK",
        "outputId": "cb34a43c-1337-412f-c7ee-e6a2eccd9066"
      },
      "execution_count": null,
      "outputs": [
        {
          "output_type": "execute_result",
          "data": {
            "text/plain": [
              "3"
            ]
          },
          "metadata": {},
          "execution_count": 121
        }
      ]
    },
    {
      "cell_type": "code",
      "source": [
        "Atm.counter"
      ],
      "metadata": {
        "colab": {
          "base_uri": "https://localhost:8080/"
        },
        "id": "-shiIdW1Vmzd",
        "outputId": "2e1b0468-2e2f-4061-d219-6ee4d818ceea"
      },
      "execution_count": null,
      "outputs": [
        {
          "output_type": "execute_result",
          "data": {
            "text/plain": [
              "4"
            ]
          },
          "metadata": {},
          "execution_count": 122
        }
      ]
    },
    {
      "cell_type": "markdown",
      "source": [
        "### Static methods"
      ],
      "metadata": {
        "id": "K9bxHyfBgC3Y"
      }
    },
    {
      "cell_type": "code",
      "source": [],
      "metadata": {
        "id": "_c09xqV9gEf-"
      },
      "execution_count": null,
      "outputs": []
    },
    {
      "cell_type": "markdown",
      "source": [
        "##### Points to remember about static\n",
        "\n",
        "- Static attributes are created at class level.\n",
        "- Static attributes are accessed using ClassName.\n",
        "- Static attributes are object independent. We can access them without creating instance (object) of the class in which they are defined.\n",
        "- The value stored in static attribute is shared between all instances(objects) of the class in which the static attribute is defined."
      ],
      "metadata": {
        "id": "Izqb_9FtwoIZ"
      }
    },
    {
      "cell_type": "code",
      "source": [
        "class Lion:\n",
        "  __water_source=\"well in the circus\"\n",
        "\n",
        "  def __init__(self,name, gender):\n",
        "      self.__name=name\n",
        "      self.__gender=gender\n",
        "\n",
        "  def drinks_water(self):\n",
        "      print(self.__name,\n",
        "      \"drinks water from the\",Lion.__water_source)\n",
        "\n",
        "  @staticmethod\n",
        "  def get_water_source():\n",
        "      return Lion.__water_source\n",
        "\n",
        "simba=Lion(\"Simba\",\"Male\")\n",
        "simba.drinks_water()\n",
        "print( \"Water source of lions:\",Lion.get_water_source())"
      ],
      "metadata": {
        "id": "3u0RdyaFwyaP",
        "outputId": "b63d1456-2a73-4478-cb4c-966f0e53d3bd",
        "colab": {
          "base_uri": "https://localhost:8080/"
        }
      },
      "execution_count": 12,
      "outputs": [
        {
          "output_type": "stream",
          "name": "stdout",
          "text": [
            "Simba drinks water from the well in the circus\n",
            "Water source of lions: well in the circus\n"
          ]
        }
      ]
    },
    {
      "cell_type": "code",
      "source": [],
      "metadata": {
        "id": "wq9m--719Xdw"
      },
      "execution_count": null,
      "outputs": []
    }
  ]
}